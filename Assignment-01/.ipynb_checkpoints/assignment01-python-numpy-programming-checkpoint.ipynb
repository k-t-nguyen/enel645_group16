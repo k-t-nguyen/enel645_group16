{
 "cells": [
  {
   "cell_type": "markdown",
   "id": "d3d4c411",
   "metadata": {},
   "source": [
    "# Assignment #01\n",
    "\n",
    "This assignment is composed of multiple Python and NumPy programming exercises. The deliverable of this assignment is this jupyter-notebook completed with your solution.\n",
    "\n",
    "The delivery instructions are the following:\n",
    "    - Create a GitHub repository for your team. You are free to choose its name. This repository will be used to delvier the programming assignments and the code of your team's final project.\n",
    "    - Create a folder assignment-01 in the repository. Put the jupyter-notebook with your solution in this repository and post the repository link in your team's D2L dropbox for the assignment.\n",
    "\n",
    "You are being assessed based on:\n",
    "\n",
    "1. Code execution - 25% \n",
    "2. Clarity of the code (e.g., easy to follow, has pertinent comments, etc.) - 25%\n",
    "3. Proper usage of the techniques seen in class - 25%\n",
    "    - remember to avoid explicit Python loops!  \n",
    "4. Quality and correcteness of the results - 25%\n",
    "\n",
    "More details about the assessment are available in the rubric document in the class GitHub repository.\n",
    "\n",
    "Points distribution:\n",
    "- Question 2-21: 3 points per question \n",
    "- Questions 22-26: 8 points per question (total 40)\n",
    "- Total: 100 ponits"
   ]
  },
  {
   "cell_type": "code",
   "execution_count": 2,
   "id": "e456bedc",
   "metadata": {},
   "outputs": [],
   "source": [
    "import matplotlib.pylab as plt"
   ]
  },
  {
   "cell_type": "markdown",
   "id": "270ca305",
   "metadata": {},
   "source": [
    "**1. Import the numpy package under the name np**"
   ]
  },
  {
   "cell_type": "code",
   "execution_count": 3,
   "id": "11b47be1",
   "metadata": {},
   "outputs": [],
   "source": [
    "import numpy as np"
   ]
  },
  {
   "cell_type": "markdown",
   "id": "f6eff30a",
   "metadata": {},
   "source": [
    "**2. Print the numpy version and the configuration**"
   ]
  },
  {
   "cell_type": "code",
   "execution_count": 21,
   "id": "a4509660",
   "metadata": {},
   "outputs": [
    {
     "name": "stdout",
     "output_type": "stream",
     "text": [
      "Version:  1.19.2\n",
      "Configuration:\n",
      "blas_mkl_info:\n",
      "    libraries = ['mkl_rt']\n",
      "    library_dirs = ['C:/Users/evano/anaconda3/envs/enel645\\\\Library\\\\lib']\n",
      "    define_macros = [('SCIPY_MKL_H', None), ('HAVE_CBLAS', None)]\n",
      "    include_dirs = ['C:/Users/evano/anaconda3/envs/enel645\\\\Library\\\\include']\n",
      "blas_opt_info:\n",
      "    libraries = ['mkl_rt']\n",
      "    library_dirs = ['C:/Users/evano/anaconda3/envs/enel645\\\\Library\\\\lib']\n",
      "    define_macros = [('SCIPY_MKL_H', None), ('HAVE_CBLAS', None)]\n",
      "    include_dirs = ['C:/Users/evano/anaconda3/envs/enel645\\\\Library\\\\include']\n",
      "lapack_mkl_info:\n",
      "    libraries = ['mkl_rt']\n",
      "    library_dirs = ['C:/Users/evano/anaconda3/envs/enel645\\\\Library\\\\lib']\n",
      "    define_macros = [('SCIPY_MKL_H', None), ('HAVE_CBLAS', None)]\n",
      "    include_dirs = ['C:/Users/evano/anaconda3/envs/enel645\\\\Library\\\\include']\n",
      "lapack_opt_info:\n",
      "    libraries = ['mkl_rt']\n",
      "    library_dirs = ['C:/Users/evano/anaconda3/envs/enel645\\\\Library\\\\lib']\n",
      "    define_macros = [('SCIPY_MKL_H', None), ('HAVE_CBLAS', None)]\n",
      "    include_dirs = ['C:/Users/evano/anaconda3/envs/enel645\\\\Library\\\\include']\n"
     ]
    }
   ],
   "source": [
    "print(\"Version: \", np.__version__)\n",
    "print(\"Configuration:\")\n",
    "np.show_config()"
   ]
  },
  {
   "cell_type": "markdown",
   "id": "1a47327b",
   "metadata": {},
   "source": [
    "**3. Create a 1D array of zeros of size 10 of type float32**"
   ]
  },
  {
   "cell_type": "code",
   "execution_count": 24,
   "id": "e790e0f7",
   "metadata": {},
   "outputs": [
    {
     "data": {
      "text/plain": [
       "array([0., 0., 0., 0., 0., 0., 0., 0., 0., 0.], dtype=float32)"
      ]
     },
     "execution_count": 24,
     "metadata": {},
     "output_type": "execute_result"
    }
   ],
   "source": [
    "arr = np.zeros(10).astype('float32')\n",
    "arr"
   ]
  },
  {
   "cell_type": "markdown",
   "id": "0c5727ab",
   "metadata": {},
   "source": [
    "**4. Print the memory size of the array below**"
   ]
  },
  {
   "cell_type": "code",
   "execution_count": 10,
   "id": "f19d6177",
   "metadata": {},
   "outputs": [
    {
     "name": "stdout",
     "output_type": "stream",
     "text": [
      "Memory size of numpy array in bytes: 3072\n"
     ]
    }
   ],
   "source": [
    "Z = np.zeros((32,12))\n",
    "# Include your solution below\n",
    "print(\"Memory size of numpy array in bytes:\",\n",
    "      Z.size * Z.itemsize)"
   ]
  },
  {
   "cell_type": "markdown",
   "id": "77f10dac",
   "metadata": {},
   "source": [
    "**5. Create a 1D array with values ranging from 10 to 58**"
   ]
  },
  {
   "cell_type": "code",
   "execution_count": 17,
   "id": "b0aed17e",
   "metadata": {},
   "outputs": [
    {
     "name": "stdout",
     "output_type": "stream",
     "text": [
      "[10 11 12 13 14 15 16 17 18 19 20 21 22 23 24 25 26 27 28 29 30 31 32 33\n",
      " 34 35 36 37 38 39 40 41 42 43 44 45 46 47 48 49 50 51 52 53 54 55 56 57\n",
      " 58]\n"
     ]
    }
   ],
   "source": [
    "arr = np.arange(10,59)\n",
    "print(arr)"
   ]
  },
  {
   "cell_type": "markdown",
   "id": "a20b031b",
   "metadata": {},
   "source": [
    "**6. Reverse the order of the values in the vector (first element becomes last)**"
   ]
  },
  {
   "cell_type": "code",
   "execution_count": 18,
   "id": "55a04eff",
   "metadata": {},
   "outputs": [
    {
     "name": "stdout",
     "output_type": "stream",
     "text": [
      "[9 8 7 6 5 4 3 2 1 0]\n"
     ]
    }
   ],
   "source": [
    "a = np.arange(10)\n",
    "# Include your solution below\n",
    "a_reversed = a[::-1]\n",
    "print(a_reversed)"
   ]
  },
  {
   "cell_type": "markdown",
   "id": "b7acc06e",
   "metadata": {},
   "source": [
    "**7. Create a 3x3 matrix with values ranging from 0 to 8**"
   ]
  },
  {
   "cell_type": "code",
   "execution_count": 20,
   "id": "63e8d8ab",
   "metadata": {},
   "outputs": [
    {
     "name": "stdout",
     "output_type": "stream",
     "text": [
      "[[0 1 2]\n",
      " [3 4 5]\n",
      " [6 7 8]]\n"
     ]
    }
   ],
   "source": [
    "x = np.arange(0,9).reshape(3,3)\n",
    "print(x)"
   ]
  },
  {
   "cell_type": "markdown",
   "id": "34574365",
   "metadata": {},
   "source": [
    "**8. Create a 3x3 identity matrix**"
   ]
  },
  {
   "cell_type": "code",
   "execution_count": 21,
   "id": "296fae8b",
   "metadata": {},
   "outputs": [
    {
     "name": "stdout",
     "output_type": "stream",
     "text": [
      "[[1. 0. 0.]\n",
      " [0. 1. 0.]\n",
      " [0. 0. 1.]]\n"
     ]
    }
   ],
   "source": [
    "x = np.identity(3)\n",
    "print(x)"
   ]
  },
  {
   "cell_type": "markdown",
   "id": "cdc7eadb",
   "metadata": {},
   "source": [
    "**9. Find and print the maximum values of each column in the array below** "
   ]
  },
  {
   "cell_type": "code",
   "execution_count": 26,
   "id": "19142a68",
   "metadata": {},
   "outputs": [
    {
     "name": "stdout",
     "output_type": "stream",
     "text": [
      "[[0.33658232 0.21573488 0.55602953 0.8318638  0.59049435 0.61599485\n",
      "  0.42259749 0.50988772 0.66404432 0.5502104  0.52979443]\n",
      " [0.46014659 0.21496339 0.61874483 0.66229174 0.6144897  0.30387714\n",
      "  0.66772715 0.36428397 0.64724382 0.56587565 0.40474113]\n",
      " [0.75541243 0.20085137 0.27578591 0.78460284 0.41302145 0.51023535\n",
      "  0.3935228  0.35618118 0.0768668  0.60155785 0.0768577 ]\n",
      " [0.13961857 0.07636586 0.47330379 0.77918937 0.57406901 0.16903619\n",
      "  0.27519456 0.59249349 0.22827727 0.05002648 0.90096557]\n",
      " [0.3800774  0.77256226 0.23360118 0.75751468 0.43940921 0.92638917\n",
      "  0.23874588 0.27154957 0.97507307 0.6503613  0.38967867]\n",
      " [0.81894386 0.85335332 0.66480185 0.62577927 0.1053496  0.54115025\n",
      "  0.21583517 0.16323451 0.98558608 0.30143355 0.39766521]\n",
      " [0.77162283 0.51821987 0.95224686 0.43401272 0.08280003 0.47917174\n",
      "  0.54332861 0.83973474 0.01177111 0.2179449  0.10070865]\n",
      " [0.64915497 0.12953868 0.78997442 0.62726618 0.9841566  0.19829534\n",
      "  0.00354378 0.22257276 0.85259547 0.89530375 0.82879824]\n",
      " [0.21004189 0.16423121 0.7033118  0.7554558  0.86632762 0.03894807\n",
      "  0.01755299 0.98254455 0.15143219 0.85296355 0.20446595]\n",
      " [0.86210498 0.06111594 0.31875439 0.66134633 0.35458851 0.29655338\n",
      "  0.82869295 0.56078357 0.0930388  0.12512239 0.26674578]]\n"
     ]
    }
   ],
   "source": [
    "Z = np.random.random((10,11))\n",
    "# Include your solution below\n",
    "print(Z)"
   ]
  },
  {
   "cell_type": "code",
   "execution_count": 28,
   "id": "e2c82941",
   "metadata": {},
   "outputs": [
    {
     "name": "stdout",
     "output_type": "stream",
     "text": [
      "[0.86210498 0.85335332 0.95224686 0.8318638  0.9841566  0.92638917\n",
      " 0.82869295 0.98254455 0.98558608 0.89530375 0.90096557]\n"
     ]
    }
   ],
   "source": [
    "print(Z.max(axis=0))\n"
   ]
  },
  {
   "cell_type": "markdown",
   "id": "483b5edb",
   "metadata": {},
   "source": [
    "**10. Create a $7 \\times 7$ array with 1s on the borders (first row and column, last row and columns) and 0s everywhere else**"
   ]
  },
  {
   "cell_type": "code",
   "execution_count": 39,
   "id": "84edda9d",
   "metadata": {},
   "outputs": [
    {
     "name": "stdout",
     "output_type": "stream",
     "text": [
      "[[1. 1. 1. 1. 1. 1. 1.]\n",
      " [1. 0. 0. 0. 0. 0. 1.]\n",
      " [1. 0. 0. 0. 0. 0. 1.]\n",
      " [1. 0. 0. 0. 0. 0. 1.]\n",
      " [1. 0. 0. 0. 0. 0. 1.]\n",
      " [1. 0. 0. 0. 0. 0. 1.]\n",
      " [1. 1. 1. 1. 1. 1. 1.]]\n"
     ]
    }
   ],
   "source": [
    "x = np.ones((7,7))\n",
    "x[1:-1,1:-1] = 0\n",
    "print(x)"
   ]
  },
  {
   "cell_type": "markdown",
   "id": "edc41c8f",
   "metadata": {},
   "source": [
    "**11. Pad the existing array below with zeros (i.e., add additional rows and columns with zeros). Use the NumPy pad function.**"
   ]
  },
  {
   "cell_type": "code",
   "execution_count": 40,
   "id": "122adbf4",
   "metadata": {},
   "outputs": [
    {
     "name": "stdout",
     "output_type": "stream",
     "text": [
      "[[0. 0. 0. 0. 0. 0. 0.]\n",
      " [0. 1. 1. 1. 1. 1. 0.]\n",
      " [0. 1. 1. 1. 1. 1. 0.]\n",
      " [0. 1. 1. 1. 1. 1. 0.]\n",
      " [0. 1. 1. 1. 1. 1. 0.]\n",
      " [0. 1. 1. 1. 1. 1. 0.]\n",
      " [0. 0. 0. 0. 0. 0. 0.]]\n"
     ]
    }
   ],
   "source": [
    "Z = np.ones((5,5))\n",
    "# Include your solution below\n",
    "Z = np.pad(Z, 1, mode='constant', constant_values=0)\n",
    "print(Z)"
   ]
  },
  {
   "cell_type": "markdown",
   "id": "20003628",
   "metadata": {},
   "source": [
    "**12. Extract the integer part of the random array of positive numbers below**"
   ]
  },
  {
   "cell_type": "code",
   "execution_count": 36,
   "id": "7a48c888",
   "metadata": {},
   "outputs": [
    {
     "name": "stdout",
     "output_type": "stream",
     "text": [
      "[0 9 5 9 5 6 0 3 8 5]\n"
     ]
    }
   ],
   "source": [
    "Z = np.random.uniform(0,10,10)\n",
    "# Include your solution below\n",
    "Z_int = Z.astype('int')\n",
    "print(Z_int)"
   ]
  },
  {
   "cell_type": "markdown",
   "id": "2b6f8198",
   "metadata": {},
   "source": [
    "**13. Create a 5x5 matrix with rows with equal values ranging from 0 to 4 (i.e., [0,1,2,3,4])**\n",
    "\n",
    "*Hint:* consider using NumPy broadcasting or the tile function*"
   ]
  },
  {
   "cell_type": "code",
   "execution_count": 46,
   "id": "756d16c4",
   "metadata": {},
   "outputs": [
    {
     "name": "stdout",
     "output_type": "stream",
     "text": [
      "[[0 1 2 3 4]\n",
      " [0 1 2 3 4]\n",
      " [0 1 2 3 4]\n",
      " [0 1 2 3 4]\n",
      " [0 1 2 3 4]]\n"
     ]
    }
   ],
   "source": [
    "x = np.array([0,1,2,3,4])\n",
    "# Broadcast\n",
    "# y = np.ones(5).reshape(5,1)\n",
    "# print(x*y)\n",
    "\n",
    "# Tile\n",
    "x = np.tile(x,(5,1))\n",
    "print(x)"
   ]
  },
  {
   "cell_type": "markdown",
   "id": "6a512a10",
   "metadata": {},
   "source": [
    "**14. Create a vector of size 10 with values ranging from 0 to 1 (0 and 1 not included)**\n",
    "\n",
    "*Hint: Consider using the linspace function*"
   ]
  },
  {
   "cell_type": "code",
   "execution_count": 51,
   "id": "e19d3b64",
   "metadata": {},
   "outputs": [
    {
     "name": "stdout",
     "output_type": "stream",
     "text": [
      "[0.09090909 0.18181818 0.27272727 0.36363636 0.45454545 0.54545455\n",
      " 0.63636364 0.72727273 0.81818182 0.90909091]\n"
     ]
    }
   ],
   "source": [
    "#Linspace creates a vector of size 11 that includes 0. [1::] removes the zero value from the vector.\n",
    "x = np.linspace(0,1,11, endpoint=False)[1::]\n",
    "print(x)"
   ]
  },
  {
   "cell_type": "markdown",
   "id": "ce0a305b",
   "metadata": {},
   "source": [
    "**15. Create a random vector of size 10 and sort it**"
   ]
  },
  {
   "cell_type": "code",
   "execution_count": 52,
   "id": "4b104ca3",
   "metadata": {},
   "outputs": [
    {
     "name": "stdout",
     "output_type": "stream",
     "text": [
      "[0.06246644 0.14468559 0.42851676 0.65226776 0.71734878 0.72965331\n",
      " 0.84139736 0.8802317  0.96564456 0.97724106]\n"
     ]
    }
   ],
   "source": [
    "x = np.random.rand(10)\n",
    "x_sorted = np.sort(x)\n",
    "print(x_sorted)"
   ]
  },
  {
   "cell_type": "markdown",
   "id": "d28a8f35",
   "metadata": {},
   "source": [
    "**16. Consider the cartesian coordinates below (X and Y), convert them to polar coordinates (R and T)**"
   ]
  },
  {
   "cell_type": "code",
   "execution_count": 62,
   "id": "2065e04d",
   "metadata": {},
   "outputs": [
    {
     "name": "stdout",
     "output_type": "stream",
     "text": [
      "(R, T):\n",
      "((0.4163375577226869, 0.2806044864420662), (0.07098137116215161, 0.4674365476503871), (1.0850726637473909, 0.4881540817450724), (0.6864680495293233, 0.21935742764929567), (0.981263193746768, 1.0079956848431855), (1.0123568607157123, 1.186193213249977), (0.47367488507975825, 0.20178349034148368), (0.5417918789642271, 0.40145488161197745), (0.6843407932122182, 0.5389223205695528), (0.5253584585875845, 1.4549514501346055))\n"
     ]
    }
   ],
   "source": [
    "Z = np.random.random((10,2))\n",
    "X,Y = Z[:,0], Z[:,1]\n",
    "# Include your solution below\n",
    "R = np.sqrt(X**2+Y**2)\n",
    "T = np.arctan2(Y,X)\n",
    "# print(\"R:\\n\" + str(R) + \"\\nT:\\n\" + str(T))\n",
    "coordinates = tuple(zip(R,T))\n",
    "print(\"(R, T):\")\n",
    "print(coordinates)"
   ]
  },
  {
   "cell_type": "markdown",
   "id": "f94eac05",
   "metadata": {},
   "source": [
    "**17. Create random vector of size 10 and replace the maximum value by 0**"
   ]
  },
  {
   "cell_type": "code",
   "execution_count": 64,
   "id": "c2c64dbe",
   "metadata": {},
   "outputs": [
    {
     "name": "stdout",
     "output_type": "stream",
     "text": [
      "Before:\n",
      "[0.73508186 0.83264905 0.54699262 0.93591753 0.09107129 0.72986443\n",
      " 0.45387567 0.47482861 0.3079175  0.97148107]\n",
      "After:\n",
      "[0.73508186 0.83264905 0.54699262 0.93591753 0.09107129 0.72986443\n",
      " 0.45387567 0.47482861 0.3079175  0.        ]\n"
     ]
    }
   ],
   "source": [
    "X = np.random.rand(10)\n",
    "print(\"Before:\")\n",
    "print(X)\n",
    "X[X.argmax()] = 0\n",
    "print(\"After:\")\n",
    "print(X)"
   ]
  },
  {
   "cell_type": "markdown",
   "id": "26c7da34",
   "metadata": {},
   "source": [
    "**18. Find the nearest value from a given value (z) in an array (Z)**"
   ]
  },
  {
   "cell_type": "code",
   "execution_count": 23,
   "id": "e952a238",
   "metadata": {},
   "outputs": [
    {
     "name": "stdout",
     "output_type": "stream",
     "text": [
      "Array being inspected:\n",
      "[0.94927367 0.3686108  0.94740399 0.94516627 0.99204573 0.66400276\n",
      " 0.4900378  0.07016214 0.54203893 0.43155855]\n",
      "Closest number in array to 0.5: 0.4900378027955028\n"
     ]
    }
   ],
   "source": [
    "Z = np.random.uniform(0,1,10)\n",
    "z = 0.5\n",
    "# Include your solution below\n",
    "print(\"Array being inspected:\")\n",
    "print(Z)\n",
    "idx = (np.abs(Z - z)).argmin()\n",
    "print(\"Closest number in array to 0.5: \" + str(Z[idx])) \n"
   ]
  },
  {
   "cell_type": "markdown",
   "id": "48a0f7b5",
   "metadata": {},
   "source": [
    "**19. Consider the vector [5, 4, 3, 2, 1], how to build a new vector with 3 consecutive zeros interleaved between each value?**"
   ]
  },
  {
   "cell_type": "code",
   "execution_count": 67,
   "id": "dcba49be",
   "metadata": {},
   "outputs": [
    {
     "name": "stdout",
     "output_type": "stream",
     "text": [
      "[5 4 3 2 1]\n",
      "[5. 0. 0. 0. 4. 0. 0. 0. 3. 0. 0. 0. 2. 0. 0. 0. 1.]\n"
     ]
    }
   ],
   "source": [
    "Z = np.arange(1,6)[::-1]\n",
    "print(Z)\n",
    "# Include your solution below\n",
    "nz = 3\n",
    "Z2 = np.zeros(len(Z) + (len(Z)-1)*(nz))\n",
    "Z2[::nz+1] = Z\n",
    "print(Z2)"
   ]
  },
  {
   "cell_type": "markdown",
   "id": "dc8f813d",
   "metadata": {},
   "source": [
    "**20. Consider an array of dimension (5,5,3), how to mulitply it element-wise by an array with dimensions (5,5) - i.e., (5,5,0)$\\times$(5,5), (5,5,1)$\\times$(5,5), (5,5,2)$\\times$(5,5)**"
   ]
  },
  {
   "cell_type": "code",
   "execution_count": 93,
   "id": "576e42d2",
   "metadata": {},
   "outputs": [
    {
     "name": "stdout",
     "output_type": "stream",
     "text": [
      "[[[2. 2. 2.]\n",
      "  [2. 2. 2.]\n",
      "  [2. 2. 2.]\n",
      "  [2. 2. 2.]\n",
      "  [2. 2. 2.]]\n",
      "\n",
      " [[2. 2. 2.]\n",
      "  [2. 2. 2.]\n",
      "  [2. 2. 2.]\n",
      "  [2. 2. 2.]\n",
      "  [2. 2. 2.]]\n",
      "\n",
      " [[2. 2. 2.]\n",
      "  [2. 2. 2.]\n",
      "  [2. 2. 2.]\n",
      "  [2. 2. 2.]\n",
      "  [2. 2. 2.]]\n",
      "\n",
      " [[2. 2. 2.]\n",
      "  [2. 2. 2.]\n",
      "  [2. 2. 2.]\n",
      "  [2. 2. 2.]\n",
      "  [2. 2. 2.]]\n",
      "\n",
      " [[2. 2. 2.]\n",
      "  [2. 2. 2.]\n",
      "  [2. 2. 2.]\n",
      "  [2. 2. 2.]\n",
      "  [2. 2. 2.]]]\n"
     ]
    }
   ],
   "source": [
    "A = np.ones((5,5,3))\n",
    "B = 2*np.ones((5,5))\n",
    "# Include your solution below\n",
    "# Depending on how you interpret the question this can be solved by either reshaping A to (3,5,5) or reshaping B to (5,5,1).\n",
    "# Reshaping A gives a result that is (5,5,3) while reshaping B gives a result that is (3,5,5).\n",
    "\n",
    "B = B.reshape(5,5,1)\n",
    "# A = A.reshape(3,5,5)\n",
    "print(A*B)"
   ]
  },
  {
   "cell_type": "markdown",
   "id": "d5024fc2",
   "metadata": {},
   "source": [
    "**21. Swap the first and second rows of the 2D array below**"
   ]
  },
  {
   "cell_type": "code",
   "execution_count": 47,
   "id": "eb01c216",
   "metadata": {},
   "outputs": [
    {
     "name": "stdout",
     "output_type": "stream",
     "text": [
      "[[ 0  1  2  3  4]\n",
      " [ 5  6  7  8  9]\n",
      " [10 11 12 13 14]\n",
      " [15 16 17 18 19]\n",
      " [20 21 22 23 24]\n",
      " [25 26 27 28 29]]\n",
      "Rearranged 1st and 2nd row:\n",
      "[[ 5  6  7  8  9]\n",
      " [ 0  1  2  3  4]\n",
      " [10 11 12 13 14]\n",
      " [15 16 17 18 19]\n",
      " [20 21 22 23 24]\n",
      " [25 26 27 28 29]]\n"
     ]
    }
   ],
   "source": [
    "W = np.arange(30).reshape(6,5)\n",
    "print(W)\n",
    "# Include your solution below\n",
    "print(\"Rearranged 1st and 2nd row:\")\n",
    "W[[0, 1]] = W[[1, 0]]\n",
    "print(W)"
   ]
  },
  {
   "cell_type": "markdown",
   "id": "f0c06bf7",
   "metadata": {},
   "source": [
    "**22. Write a function that receives as input a 2D Boolean NumPy array and outputs the coordinates of the minimal bounding-box\n",
    "that encloses all non-zero elements in the input array**\n",
    "\n",
    "**Tip:** search for the functions nonzero and where in the NumPy documentation.\n",
    "\n",
    "\n",
    "<img src=\"Figures/bbox.png\" width=\"150\" /> \n",
    "<img src=\"Figures/bin_image.png\" width=\"150\" /> "
   ]
  },
  {
   "cell_type": "code",
   "execution_count": 109,
   "id": "7a060894",
   "metadata": {},
   "outputs": [
    {
     "name": "stdout",
     "output_type": "stream",
     "text": [
      "((29, 50), (342, 431))\n"
     ]
    }
   ],
   "source": [
    "def bbox(img):\n",
    "    #include your solution below\n",
    "    white_pix = np.argwhere(img)\n",
    "    (r1,c1) = white_pix.min(axis = 0)\n",
    "    (r2,c2) = white_pix.max(axis = 0)\n",
    "    return (r1,c1),(r2,c2)\n",
    "\n",
    "\n",
    "from PIL import Image\n",
    "\n",
    "img = np.array(Image.open('Figures/bin_image.png').convert('L')) > 0\n",
    "print(bbox(img))"
   ]
  },
  {
   "cell_type": "markdown",
   "id": "24136437",
   "metadata": {},
   "source": [
    "**23.Write a function to compute the average over a sliding window of length N over a 1D array?**\n",
    "\n",
    "*Example:* [1,2,3,4,5,6,7,8,9], N = 3 -> [2,5,8]"
   ]
  },
  {
   "cell_type": "code",
   "execution_count": 157,
   "id": "dd7fd8d4",
   "metadata": {},
   "outputs": [
    {
     "name": "stdout",
     "output_type": "stream",
     "text": [
      "[ 1.  4.  7. 10. 13. 16. 19. 22. 25. 28.]\n"
     ]
    }
   ],
   "source": [
    "def moving_average_clean(x,N = 3):\n",
    "    #define your function here\n",
    "    #This only works if the size of x is divisible by N\n",
    "    size = x.size\n",
    "    x = x.reshape(x.size//N, N)\n",
    "    average = x.mean(axis = 1)\n",
    "    return average\n",
    "\n",
    "def moving_average_robust(x,N = 3):\n",
    "    # This handles any size x and N > 0 but requires the use of an explicit loop\n",
    "    size = x.size\n",
    "    split = np.array_split(x, np.ceil(size/N))\n",
    "    means = np.zeros(int(np.ceil(size/N)))\n",
    "    for (i, window) in enumerate(split):\n",
    "        means[i] = window.mean()\n",
    "    return means\n",
    "\n",
    "a = np.arange(30)\n",
    "N = 3\n",
    "print(moving_average_clean(a,N))\n",
    "# print(moving_average_robust(a,N))"
   ]
  },
  {
   "cell_type": "markdown",
   "id": "5872fece",
   "metadata": {},
   "source": [
    "**24.  Given a sorted 1D array C that corresponds to a bincount, how to produce an array A such that np.bincount(A) == C?**\n",
    "\n",
    "*Example:* C = [3,2,4] -> D = [0,0,0,1,1,2,2,2,2]\n",
    "\n",
    "*Tip:* Consider using the NumPy repeat function"
   ]
  },
  {
   "cell_type": "code",
   "execution_count": 164,
   "id": "ce028636",
   "metadata": {},
   "outputs": [
    {
     "name": "stdout",
     "output_type": "stream",
     "text": [
      "[0 2 1 1 2 0 1]\n",
      "[1 1 2 3 4 4 6]\n"
     ]
    }
   ],
   "source": [
    "C = np.bincount([1,1,2,3,4,4,6])\n",
    "print(C)\n",
    "# Include your solution here\n",
    "A = np.repeat(np.arange(C.size),C)\n",
    "print(A)"
   ]
  },
  {
   "cell_type": "markdown",
   "id": "8384012b",
   "metadata": {},
   "source": [
    "**25. Find the most frequent value in the array below?**"
   ]
  },
  {
   "cell_type": "code",
   "execution_count": 170,
   "id": "49ff362e",
   "metadata": {},
   "outputs": [
    {
     "name": "stdout",
     "output_type": "stream",
     "text": [
      "[5 9 7 1 1 3 5 2 3 4 5 3 8 7 5 4 3 4 4 7 6 9 9 4 0 4 7 2 8 8 2 8 7 0 3 5 7\n",
      " 5 1 5 4 9 6 5 7 1 5 4 2 5]\n",
      "5\n"
     ]
    }
   ],
   "source": [
    "Z = np.random.randint(0,10,50)\n",
    "print(Z)\n",
    "# Include your solution below\n",
    "mode = np.bincount(Z).argmax()\n",
    "print(mode)"
   ]
  },
  {
   "cell_type": "markdown",
   "id": "3971afe2",
   "metadata": {},
   "source": [
    "**26. Write a function to return the n largest values of an array** "
   ]
  },
  {
   "cell_type": "code",
   "execution_count": 278,
   "id": "fee4e15d-e413-4854-a603-62b3240f0157",
   "metadata": {},
   "outputs": [],
   "source": [
    "Z = np.arange(1000000)\n",
    "np.random.shuffle(Z)\n",
    "n = 5"
   ]
  },
  {
   "cell_type": "code",
   "execution_count": 308,
   "id": "5bc5da25-816c-4370-8406-9c45e6efe354",
   "metadata": {},
   "outputs": [],
   "source": [
    "def nlargest_sort(a,n = 5):\n",
    "    # Include your solution here\n",
    "    sorted = np.sort(a)\n",
    "    largest = sorted[-1:-n-1:-1]\n",
    "    return largest"
   ]
  },
  {
   "cell_type": "code",
   "execution_count": 296,
   "id": "388c18c1-0577-4de6-9c3c-09e0e476629f",
   "metadata": {},
   "outputs": [],
   "source": [
    "def nlargest_part(a, n = 5):\n",
    "    # Include your solution here\n",
    "    temp = np.partition(-a,n)\n",
    "    return np.sort(-temp[:n])[::-1]"
   ]
  },
  {
   "cell_type": "code",
   "execution_count": 282,
   "id": "92dd83ee-0f8b-499d-bc42-3d83956ea43b",
   "metadata": {},
   "outputs": [],
   "source": [
    "def nlargest_iter(a,n = 5):\n",
    "    # Include your solution here\n",
    "    a = np.copy(a)\n",
    "    largest = np.zeros(n)\n",
    "    for i in range(n):\n",
    "        ind = np.argmax(a)\n",
    "        largest[i] = a[ind]\n",
    "        a[ind] = 0\n",
    "    return largest"
   ]
  },
  {
   "cell_type": "code",
   "execution_count": 283,
   "id": "58063797-2a51-4a22-9890-93d30361ed3f",
   "metadata": {},
   "outputs": [
    {
     "name": "stdout",
     "output_type": "stream",
     "text": [
      "54.4 ms ± 491 µs per loop (mean ± std. dev. of 7 runs, 10 loops each)\n"
     ]
    }
   ],
   "source": [
    "%%timeit\n",
    "nlargest_sort(Z,n)"
   ]
  },
  {
   "cell_type": "code",
   "execution_count": 295,
   "id": "ca9956b2-7b35-4c1c-b026-f4832ec5d150",
   "metadata": {},
   "outputs": [
    {
     "name": "stdout",
     "output_type": "stream",
     "text": [
      "8.8 ms ± 441 µs per loop (mean ± std. dev. of 7 runs, 100 loops each)\n"
     ]
    }
   ],
   "source": [
    "%%timeit\n",
    "nlargest_part(Z,n)"
   ]
  },
  {
   "cell_type": "code",
   "execution_count": 285,
   "id": "e8feb74f-1f1a-4c7a-98d3-f2faff6ca462",
   "metadata": {},
   "outputs": [
    {
     "name": "stdout",
     "output_type": "stream",
     "text": [
      "3.89 ms ± 126 µs per loop (mean ± std. dev. of 7 runs, 100 loops each)\n"
     ]
    }
   ],
   "source": [
    "%%timeit\n",
    "nlargest_iter(Z,n)"
   ]
  },
  {
   "cell_type": "markdown",
   "id": "85e9deb4-3103-4a05-9629-75c495951618",
   "metadata": {},
   "source": [
    "In this case the explicit iterative solution has **significantly** better performance than the sorting solution and mildly better performance than using np.partition. But as shown below, all three methods work."
   ]
  },
  {
   "cell_type": "code",
   "execution_count": 286,
   "id": "5d7ef45e-2a99-4139-a684-d134625448e7",
   "metadata": {},
   "outputs": [
    {
     "name": "stdout",
     "output_type": "stream",
     "text": [
      "[999999. 999998. 999997. 999996. 999995.]\n"
     ]
    }
   ],
   "source": [
    "print(nlargest_iter(Z,n))"
   ]
  },
  {
   "cell_type": "code",
   "execution_count": null,
   "id": "27d658c4-ca3c-4664-a394-687feef6f8cb",
   "metadata": {},
   "outputs": [
    {
     "name": "stdout",
     "output_type": "stream",
     "text": [
      "[999999 999998 999997 999996 999995]\n"
     ]
    }
   ],
   "source": [
    "print(nlargest_part(Z,n))"
   ]
  },
  {
   "cell_type": "code",
   "execution_count": 309,
   "id": "151bc5f8-17dd-4b14-872b-3c3b90b82e37",
   "metadata": {},
   "outputs": [
    {
     "name": "stdout",
     "output_type": "stream",
     "text": [
      "[999999 999998 999997 999996 999995]\n"
     ]
    }
   ],
   "source": [
    "print(nlargest_sort(Z,n))"
   ]
  },
  {
   "cell_type": "code",
   "execution_count": null,
   "id": "28f37970-55e8-4174-9413-3135cbff3645",
   "metadata": {},
   "outputs": [],
   "source": []
  }
 ],
 "metadata": {
  "kernelspec": {
   "display_name": "Python 3",
   "language": "python",
   "name": "python3"
  },
  "language_info": {
   "codemirror_mode": {
    "name": "ipython",
    "version": 3
   },
   "file_extension": ".py",
   "mimetype": "text/x-python",
   "name": "python",
   "nbconvert_exporter": "python",
   "pygments_lexer": "ipython3",
   "version": "3.6.13"
  }
 },
 "nbformat": 4,
 "nbformat_minor": 5
}
